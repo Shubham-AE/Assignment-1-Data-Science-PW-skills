{
 "cells": [
  {
   "cell_type": "raw",
   "id": "059cba22-0ba3-4c80-989f-1f39ffe6f9a0",
   "metadata": {},
   "source": [
    "Q1. Create one variable containing following type of data:\n",
    "(i) string\n",
    "(ii) list\n",
    "(iii) float\n",
    "(iv) tuple"
   ]
  },
  {
   "cell_type": "code",
   "execution_count": 9,
   "id": "b648ef3e-f28f-4560-a1bc-6a1e431c8454",
   "metadata": {},
   "outputs": [
    {
     "name": "stdout",
     "output_type": "stream",
     "text": [
      "('Shubham', [1, 2, 3, 4], 3.14, (5, 6, 7))\n"
     ]
    }
   ],
   "source": [
    "l = (\"Shubham\", [1, 2, 3, 4], 3.14, (5, 6, 7))\n",
    "print(l)"
   ]
  },
  {
   "cell_type": "code",
   "execution_count": 10,
   "id": "b8eed6e3-cb6f-4b55-a462-9d213939504f",
   "metadata": {},
   "outputs": [
    {
     "data": {
      "text/plain": [
       "str"
      ]
     },
     "execution_count": 10,
     "metadata": {},
     "output_type": "execute_result"
    }
   ],
   "source": [
    "type(\"l\")"
   ]
  },
  {
   "cell_type": "raw",
   "id": "546411ff-fdda-4c4f-9b12-771df99f1122",
   "metadata": {},
   "source": [
    "Q2. Given are some following variables containing data:\n",
    "(i) var1 = ‘ ‘\n",
    "(ii) var2 = ‘[ DS , ML , Python]’\n",
    "(iii) var3 = [ ‘DS’ , ’ML’ , ‘Python’ ]\n",
    "(iv) var4 = 1.\n",
    "What will be the data type of the above given variable."
   ]
  },
  {
   "cell_type": "code",
   "execution_count": 1,
   "id": "68af7bc3-1525-4c6e-8b40-fdaee03c35f7",
   "metadata": {},
   "outputs": [
    {
     "name": "stdout",
     "output_type": "stream",
     "text": [
      "Data type of var1: <class 'str'>\n",
      "Data type of var2: <class 'str'>\n",
      "Data type of var3: <class 'list'>\n",
      "Data type of var4: <class 'float'>\n"
     ]
    }
   ],
   "source": [
    "var1 = ' '\n",
    "var2 = '[ DS , ML , Python]'\n",
    "var3 = ['DS','ML','Python']\n",
    "var4 = 1.0\n",
    "\n",
    "print(\"Data type of var1:\", type(var1))\n",
    "print(\"Data type of var2:\", type(var2))\n",
    "print(\"Data type of var3:\", type(var3))\n",
    "print(\"Data type of var4:\", type(var4))"
   ]
  },
  {
   "cell_type": "raw",
   "id": "85141b50-5c2f-4182-b9ae-07a9445fa336",
   "metadata": {},
   "source": [
    "Q3. Explain the use of the following operators using an example:\n",
    "(i) /\n",
    "(ii) %\n",
    "(iii) //\n",
    "(iv) **"
   ]
  },
  {
   "cell_type": "code",
   "execution_count": 8,
   "id": "533f1ee8-d049-4dd7-9b83-65b3ddcc507d",
   "metadata": {},
   "outputs": [],
   "source": [
    "a = 10\n",
    "b = 3"
   ]
  },
  {
   "cell_type": "code",
   "execution_count": 9,
   "id": "11fa2b7b-8a74-402f-9674-0a991997bd7c",
   "metadata": {},
   "outputs": [
    {
     "data": {
      "text/plain": [
       "3.3333333333333335"
      ]
     },
     "execution_count": 9,
     "metadata": {},
     "output_type": "execute_result"
    }
   ],
   "source": [
    "# Division\n",
    "a / b"
   ]
  },
  {
   "cell_type": "code",
   "execution_count": 11,
   "id": "18ffb8a6-ab59-4f0a-8586-adfb3ce21754",
   "metadata": {},
   "outputs": [
    {
     "data": {
      "text/plain": [
       "1"
      ]
     },
     "execution_count": 11,
     "metadata": {},
     "output_type": "execute_result"
    }
   ],
   "source": [
    "# Modulus\n",
    "a % b"
   ]
  },
  {
   "cell_type": "code",
   "execution_count": 12,
   "id": "a853befa-0332-4b41-8cd2-296f0b2cf958",
   "metadata": {},
   "outputs": [
    {
     "data": {
      "text/plain": [
       "3"
      ]
     },
     "execution_count": 12,
     "metadata": {},
     "output_type": "execute_result"
    }
   ],
   "source": [
    "# Floor Division\n",
    "a // b"
   ]
  },
  {
   "cell_type": "code",
   "execution_count": 13,
   "id": "309c3f5a-9f25-47a8-a761-644cf5416372",
   "metadata": {},
   "outputs": [
    {
     "data": {
      "text/plain": [
       "1000"
      ]
     },
     "execution_count": 13,
     "metadata": {},
     "output_type": "execute_result"
    }
   ],
   "source": [
    "# Exponentiation\n",
    "a ** b"
   ]
  },
  {
   "cell_type": "raw",
   "id": "38c92ab5-4668-4de5-ad6b-bbac922ad11f",
   "metadata": {},
   "source": [
    "Q4. Create a list of length 10 of your choice containing multiple types of data. Using for loop print the\n",
    "element and its data type."
   ]
  },
  {
   "cell_type": "code",
   "execution_count": 14,
   "id": "1438cdca-932a-4df9-8fff-955217f41fbf",
   "metadata": {},
   "outputs": [],
   "source": [
    "l = [2,3,8,\"shubham\" ,True,{33.4,64,89}]"
   ]
  },
  {
   "cell_type": "code",
   "execution_count": 15,
   "id": "7fc43234-497f-48c9-b6eb-be093e6ea89e",
   "metadata": {},
   "outputs": [
    {
     "name": "stdout",
     "output_type": "stream",
     "text": [
      "<class 'int'>\n",
      "<class 'int'>\n",
      "<class 'int'>\n",
      "<class 'str'>\n",
      "<class 'bool'>\n",
      "<class 'set'>\n"
     ]
    }
   ],
   "source": [
    "for i in l :\n",
    "    print(type(i))"
   ]
  },
  {
   "cell_type": "raw",
   "id": "32db082e-a22d-4409-ae26-7a8f6921bcd7",
   "metadata": {},
   "source": [
    "Q5. Using a while loop, verify if the number A is purely divisible by number B and if so then how many\n",
    "times it can be divisible."
   ]
  },
  {
   "cell_type": "code",
   "execution_count": 21,
   "id": "d80093a8-07f9-4f4b-b1da-7af5c10d2dbd",
   "metadata": {},
   "outputs": [
    {
     "name": "stdout",
     "output_type": "stream",
     "text": [
      "The number is divisible by 2 exactly 6 times.\n"
     ]
    }
   ],
   "source": [
    "A = 64\n",
    "B = 2\n",
    "\n",
    "count = 0\n",
    "\n",
    "while A % B == 0:\n",
    "    A = A / B\n",
    "    count += 1\n",
    "\n",
    "if count > 0:\n",
    "    print(f\"The number is divisible by {B} exactly {count} times.\")\n",
    "else:\n",
    "    print(f\"The number is not divisible by {B}.\")"
   ]
  },
  {
   "cell_type": "code",
   "execution_count": null,
   "id": "9f1a7b2a-12a3-444f-8547-95e157229178",
   "metadata": {},
   "outputs": [],
   "source": []
  },
  {
   "cell_type": "code",
   "execution_count": 33,
   "id": "0bb0a56f-3d7e-47af-bcc1-c9c979653bb0",
   "metadata": {},
   "outputs": [
    {
     "name": "stdout",
     "output_type": "stream",
     "text": [
      "1 is not divisible by 3\n",
      "2 is not divisible by 3\n",
      "3 is divisible by 3\n",
      "4 is not divisible by 3\n",
      "5 is not divisible by 3\n",
      "6 is divisible by 3\n",
      "7 is not divisible by 3\n",
      "8 is not divisible by 3\n",
      "9 is divisible by 3\n",
      "10 is not divisible by 3\n",
      "11 is not divisible by 3\n",
      "12 is divisible by 3\n",
      "13 is not divisible by 3\n",
      "14 is not divisible by 3\n",
      "15 is divisible by 3\n",
      "16 is not divisible by 3\n",
      "17 is not divisible by 3\n",
      "18 is divisible by 3\n",
      "19 is not divisible by 3\n",
      "20 is not divisible by 3\n",
      "21 is divisible by 3\n",
      "22 is not divisible by 3\n",
      "23 is not divisible by 3\n",
      "24 is divisible by 3\n",
      "25 is not divisible by 3\n"
     ]
    }
   ],
   "source": [
    "l = [1,2,3,4,5,6,7,8,9,10,11,12,13,14,15,16,17,18,19,20,21,22,23,24,25]  \n",
    "\n",
    "for i in l:\n",
    "    if i % 3 == 0:\n",
    "        print(f\"{i} is divisible by 3\")\n",
    "    else:\n",
    "        print(f\"{i} is not divisible by 3\")"
   ]
  },
  {
   "cell_type": "raw",
   "id": "c5e5df1a-a336-441b-93bc-d4e31fa6ef34",
   "metadata": {},
   "source": [
    "Q7. What do you understand about mutable and immutable data types? Give examples for both showing\n",
    "this property."
   ]
  },
  {
   "cell_type": "raw",
   "id": "01a35178-b8bf-4935-a24a-58b00df58ba2",
   "metadata": {},
   "source": [
    "Mutable Data Types\n",
    "Mutable data types are those that allow their elements to be modified after the object has been created. \n",
    "This means you can change, add, or remove elements without creating a new object.\n"
   ]
  },
  {
   "cell_type": "code",
   "execution_count": 37,
   "id": "930827cd-5e52-474e-95ee-d4ed8307b4dd",
   "metadata": {},
   "outputs": [],
   "source": [
    "l = [1, 2, 3]"
   ]
  },
  {
   "cell_type": "code",
   "execution_count": 39,
   "id": "979743a9-ec7b-4b6c-baef-7b4aa56c947a",
   "metadata": {},
   "outputs": [
    {
     "data": {
      "text/plain": [
       "1"
      ]
     },
     "execution_count": 39,
     "metadata": {},
     "output_type": "execute_result"
    }
   ],
   "source": [
    "l[0]"
   ]
  },
  {
   "cell_type": "code",
   "execution_count": 40,
   "id": "fa753fe4-691a-4e64-9af4-5071011fa6ed",
   "metadata": {},
   "outputs": [],
   "source": [
    "l[0] = 8"
   ]
  },
  {
   "cell_type": "code",
   "execution_count": 41,
   "id": "f0bcf8f4-ec39-430b-8aee-f2cc2b9c57b3",
   "metadata": {},
   "outputs": [
    {
     "data": {
      "text/plain": [
       "[8, 2, 3]"
      ]
     },
     "execution_count": 41,
     "metadata": {},
     "output_type": "execute_result"
    }
   ],
   "source": [
    "l"
   ]
  },
  {
   "cell_type": "raw",
   "id": "edbaba48-a389-4dec-a35e-8fcf079024e2",
   "metadata": {},
   "source": [
    "Immutable Data Types\n",
    "Immutable data types are those that do not allow their elements to be modified after the object has been created.\n",
    "Any modification to an immutable object results in a new object being created."
   ]
  },
  {
   "cell_type": "code",
   "execution_count": 46,
   "id": "1b349f1f-6e8c-42c8-9444-a83fb3356035",
   "metadata": {},
   "outputs": [],
   "source": [
    "s = \"shubham\""
   ]
  },
  {
   "cell_type": "code",
   "execution_count": 47,
   "id": "5bd8272e-ed22-4dea-b298-74c60646c0a3",
   "metadata": {},
   "outputs": [],
   "source": [
    "l= [2,3,4,5,6,8,7,9,'shubham',3+7j,True,86.24]"
   ]
  },
  {
   "cell_type": "code",
   "execution_count": 48,
   "id": "7c0c4ef4-2239-4899-b1d1-f88e34a8c2fd",
   "metadata": {},
   "outputs": [
    {
     "data": {
      "text/plain": [
       "str"
      ]
     },
     "execution_count": 48,
     "metadata": {},
     "output_type": "execute_result"
    }
   ],
   "source": [
    "type(\"l\")"
   ]
  },
  {
   "cell_type": "code",
   "execution_count": 49,
   "id": "7cac138a-2acd-4a06-9804-37846a665c4e",
   "metadata": {},
   "outputs": [
    {
     "data": {
      "text/plain": [
       "'shubham'"
      ]
     },
     "execution_count": 49,
     "metadata": {},
     "output_type": "execute_result"
    }
   ],
   "source": [
    "s\n"
   ]
  },
  {
   "cell_type": "code",
   "execution_count": null,
   "id": "a7c46762-bf39-4404-94ad-eeae330486a3",
   "metadata": {},
   "outputs": [],
   "source": []
  }
 ],
 "metadata": {
  "kernelspec": {
   "display_name": "Python 3 (ipykernel)",
   "language": "python",
   "name": "python3"
  },
  "language_info": {
   "codemirror_mode": {
    "name": "ipython",
    "version": 3
   },
   "file_extension": ".py",
   "mimetype": "text/x-python",
   "name": "python",
   "nbconvert_exporter": "python",
   "pygments_lexer": "ipython3",
   "version": "3.10.8"
  }
 },
 "nbformat": 4,
 "nbformat_minor": 5
}
